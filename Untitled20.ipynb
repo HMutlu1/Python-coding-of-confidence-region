{
 "cells": [
  {
   "cell_type": "markdown",
   "id": "9b96473d",
   "metadata": {},
   "source": [
    "# Çalışmada Kullanılan R kodları ve Grafik Çıktıları"
   ]
  },
  {
   "cell_type": "markdown",
   "id": "2b00c146",
   "metadata": {},
   "source": [
    "### Güven Bölgesi Görselleştirme "
   ]
  },
  {
   "cell_type": "code",
   "execution_count": 1,
   "id": "be957214",
   "metadata": {},
   "outputs": [
    {
     "data": {
      "image/png": "[encoded data removed]",
      "text/plain": [
       "<Figure size 640x480 with 1 Axes>"
      ]
     },
     "metadata": {},
     "output_type": "display_data"
    }
   ],
   "source": [
    "import numpy as np\n",
    "from scipy.stats import chi2\n",
    "import matplotlib.pyplot as plt\n",
    "\n",
    "# Data\n",
    "x = np.array([0.19, 0.78, 0.96, 1.31, 2.78, 4.85, 6.50, 7.35])\n",
    "r = np.array([0, 0, 3, 0, 3, 0, 0, 5])\n",
    "m = len(r)\n",
    "n = sum(r) + m\n",
    "\n",
    "# Calculate gamma values\n",
    "gam = np.zeros(m)\n",
    "for j in range(m):\n",
    "    gam[j] = sum(r[j:m] + 1)\n",
    "\n",
    "# Estimate muhat and sigmahat\n",
    "muhat = min(x)\n",
    "sigmahat = 1/m * sum(gam[1:m] * (x[1:m] - x[0:m-1]))\n",
    "\n",
    "# Calculate confidence interval for sigma\n",
    "p = 0.05\n",
    "q1 = (1 - np.sqrt(1 - p)) / 2\n",
    "q2 = 1 - q1\n",
    "s_q1 = 2 * m * sigmahat / chi2.ppf(q1, 2 * m - 2)\n",
    "s_q2 = 2 * m * sigmahat / chi2.ppf(q2, 2 * m - 2)\n",
    "sigmaset = [s_q2, s_q1]\n",
    "\n",
    "# Create data for plot\n",
    "data = []\n",
    "for s in np.arange(s_q2, s_q1, 0.1):\n",
    "    mu_alt = muhat + s * np.log(q1) / n\n",
    "    mu_ust = muhat + s * np.log(q2) / n\n",
    "    data.append([s, mu_alt, mu_ust])\n",
    "data = np.array(data)\n",
    "\n",
    "# Prepare data for lines\n",
    "lines_data = {\n",
    "    'mu': np.repeat(data[:, 1], 2),\n",
    "    'sigma': np.repeat(data[:, 0], 2),\n",
    "    'mu2': np.repeat(data[:, 2], 2),\n",
    "    'sigma2': np.repeat(data[:, 0], 2)\n",
    "}\n",
    "\n",
    "# Plot\n",
    "fig, ax = plt.subplots()\n",
    "for i in range(0, len(lines_data['mu']), 2):\n",
    "    ax.plot([lines_data['mu'][i], lines_data['mu2'][i]], [lines_data['sigma'][i], lines_data['sigma2'][i]], 'r-')\n",
    "ax.plot(muhat, sigmahat, 'bo', markersize=8)\n",
    "ax.set_xlim(-10, 5)\n",
    "ax.set_ylim(0, 30)\n",
    "ax.set_xlabel('mu')\n",
    "ax.set_ylabel('sigma')\n",
    "ax.grid(True)\n",
    "plt.show()\n"
   ]
  },
  {
   "cell_type": "code",
   "execution_count": null,
   "id": "58a7fc34",
   "metadata": {},
   "outputs": [],
   "source": []
  }
 ],
 "metadata": {
  "kernelspec": {
   "display_name": "Python 3 (ipykernel)",
   "language": "python",
   "name": "python3"
  },
  "language_info": {
   "codemirror_mode": {
    "name": "ipython",
    "version": 3
   },
   "file_extension": ".py",
   "mimetype": "text/x-python",
   "name": "python",
   "nbconvert_exporter": "python",
   "pygments_lexer": "ipython3",
   "version": "3.11.5"
  }
 },
 "nbformat": 4,
 "nbformat_minor": 5
}
